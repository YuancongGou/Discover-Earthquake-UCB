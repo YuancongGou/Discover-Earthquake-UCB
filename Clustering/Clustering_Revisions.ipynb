{
 "cells": [
  {
   "cell_type": "code",
   "execution_count": 1,
   "metadata": {},
   "outputs": [
    {
     "name": "stderr",
     "output_type": "stream",
     "text": [
      "2022-04-03 13:45:25.696723: W tensorflow/stream_executor/platform/default/dso_loader.cc:64] Could not load dynamic library 'libcudart.so.11.0'; dlerror: libcudart.so.11.0: cannot open shared object file: No such file or directory\n",
      "2022-04-03 13:45:25.696765: I tensorflow/stream_executor/cuda/cudart_stub.cc:29] Ignore above cudart dlerror if you do not have a GPU set up on your machine.\n"
     ]
    }
   ],
   "source": [
    "import obspy\n",
    "import seisbench\n",
    "import seisbench.models as sbm\n",
    "import pandas as pd\n",
    "import pickle\n",
    "\n",
    "from __future__ import print_function\n",
    "import numpy as np\n",
    "import h5py\n",
    "import glob\n",
    "import math\n",
    "import os\n",
    "import shutil\n",
    "from scipy import signal\n",
    "from scipy.signal import butter, lfilter\n",
    "from keras.layers import Input, Dense, Conv2D, MaxPooling2D, UpSampling2D, Conv1D, MaxPooling1D, UpSampling1D, Flatten, Dropout, Reshape \n",
    "from keras.layers import Bidirectional, BatchNormalization, ZeroPadding1D, Conv2DTranspose\n",
    "from keras.models import Model\n",
    "from keras import backend as K\n",
    "from tensorflow.keras.optimizers import SGD, Adam\n",
    "from keras import regularizers\n",
    "from tensorflow.keras.layers import Layer, InputSpec\n",
    "from keras.callbacks import ModelCheckpoint, LearningRateScheduler, ReduceLROnPlateau, EarlyStopping\n",
    "from keras.initializers import VarianceScaling\n",
    "from keras.callbacks import CSVLogger\n",
    "from scipy.optimize import linear_sum_assignment as linear_assignment\n",
    "from sklearn.decomposition import PCA\n",
    "from sklearn.cluster import KMeans\n",
    "import metrics\n",
    "import matplotlib.pyplot as plt\n",
    "from matplotlib.pyplot import savefig\n",
    "\n",
    "#import seaborn as sns # seaborn import line is erroring\n",
    "#sns.set_style('darkgrid')\n",
    "#sns.set_palette('muted')"
   ]
  },
  {
   "cell_type": "code",
   "execution_count": 2,
   "metadata": {},
   "outputs": [],
   "source": [
    "def Store_Models(path, obj):\n",
    "    db_file = open(path, 'wb')\n",
    "    \n",
    "    pickle.dump(obj, db_file)                     \n",
    "    db_file.close()\n",
    "    \n",
    "    return 'Successfully stored pickles!'\n",
    "\n",
    "def Load_Models_Pickle(path):\n",
    "    db_file = open(path, 'rb')\n",
    "    models = pickle.load(db_file)\n",
    "    \n",
    "    return models"
   ]
  },
  {
   "cell_type": "markdown",
   "metadata": {},
   "source": [
    "### Load Data"
   ]
  },
  {
   "cell_type": "code",
   "execution_count": 3,
   "metadata": {},
   "outputs": [],
   "source": [
    "east_channel_path     = '/global/scratch/users/taira/mleq/mseed/1001.HF.EPE.00.2020.342'\n",
    "north_channel_path    = '/global/scratch/users/taira/mleq/mseed/1001.HF.EPN.00.2020.342'\n",
    "vertical_channel_path = '/global/scratch/users/taira/mleq/mseed/1001.HF.EPZ.00.2020.342'\n",
    "\n",
    "stream = obspy.read(east_channel_path)\n",
    "stream += obspy.read(north_channel_path)\n",
    "stream += obspy.read(vertical_channel_path)\n",
    "\n",
    "stream_arr = [list(stream[i].data) for i in range(3)]"
   ]
  },
  {
   "cell_type": "code",
   "execution_count": 4,
   "metadata": {},
   "outputs": [],
   "source": [
    "# intermediate data batching \n",
    "\n",
    "stream_arr_by_time = [[[stream_arr[0][i]], [stream_arr[1][i]], [stream_arr[2][i]]] for i in range(len(stream_arr[0]))]\n",
    "step_size = 1000 # originally 16, try to increase to 1000 to represent 10 seconds\n",
    "batched_stream_arr_by_time = [stream_arr_by_time[i:i + step_size] for i in range(0, len(stream_arr_by_time), step_size)]"
   ]
  },
  {
   "cell_type": "code",
   "execution_count": 5,
   "metadata": {},
   "outputs": [
    {
     "name": "stdout",
     "output_type": "stream",
     "text": [
      "[name: \"/device:CPU:0\"\n",
      "device_type: \"CPU\"\n",
      "memory_limit: 268435456\n",
      "locality {\n",
      "}\n",
      "incarnation: 7123635721354184845\n",
      "xla_global_id: -1\n",
      "]\n"
     ]
    },
    {
     "name": "stderr",
     "output_type": "stream",
     "text": [
      "2022-04-03 13:46:26.621266: E tensorflow/stream_executor/cuda/cuda_driver.cc:271] failed call to cuInit: CUDA_ERROR_NO_DEVICE: no CUDA-capable device is detected\n",
      "2022-04-03 13:46:26.621302: I tensorflow/stream_executor/cuda/cuda_diagnostics.cc:156] kernel driver does not appear to be running on this host (n0112.savio1): /proc/driver/nvidia/version does not exist\n"
     ]
    }
   ],
   "source": [
    "os.environ['CUDA_VISIBLE_DEVICES'] = \"\"\n",
    "from tensorflow.python.client import device_lib\n",
    "print(device_lib.list_local_devices())"
   ]
  },
  {
   "cell_type": "code",
   "execution_count": 7,
   "metadata": {},
   "outputs": [
    {
     "name": "stdout",
     "output_type": "stream",
     "text": [
      "Model: \"autoencoder\"\n",
      "_________________________________________________________________\n",
      " Layer (type)                Output Shape              Param #   \n",
      "=================================================================\n",
      " input_2 (InputLayer)        [(None, 1000, 3, 1)]      0         \n",
      "                                                                 \n",
      " conv2d_7 (Conv2D)           (None, 1000, 3, 4)        40        \n",
      "                                                                 \n",
      " max_pooling2d_3 (MaxPooling  (None, 500, 1, 4)        0         \n",
      " 2D)                                                             \n",
      "                                                                 \n",
      " conv2d_8 (Conv2D)           (None, 500, 1, 2)         74        \n",
      "                                                                 \n",
      " max_pooling2d_4 (MaxPooling  (None, 250, 1, 2)        0         \n",
      " 2D)                                                             \n",
      "                                                                 \n",
      " conv2d_9 (Conv2D)           (None, 250, 1, 1)         19        \n",
      "                                                                 \n",
      " max_pooling2d_5 (MaxPooling  (None, 125, 1, 1)        0         \n",
      " 2D)                                                             \n",
      "                                                                 \n",
      " flatten_1 (Flatten)         (None, 125)               0         \n",
      "                                                                 \n",
      " reshape_1 (Reshape)         (None, 125, 1, 1)         0         \n",
      "                                                                 \n",
      " conv2d_10 (Conv2D)          (None, 125, 1, 1)         10        \n",
      "                                                                 \n",
      " up_sampling2d_3 (UpSampling  (None, 250, 1, 1)        0         \n",
      " 2D)                                                             \n",
      "                                                                 \n",
      " conv2d_11 (Conv2D)          (None, 250, 1, 2)         20        \n",
      "                                                                 \n",
      " up_sampling2d_4 (UpSampling  (None, 500, 1, 2)        0         \n",
      " 2D)                                                             \n",
      "                                                                 \n",
      " conv2d_12 (Conv2D)          (None, 500, 1, 4)         76        \n",
      "                                                                 \n",
      " up_sampling2d_5 (UpSampling  (None, 1000, 3, 4)       0         \n",
      " 2D)                                                             \n",
      "                                                                 \n",
      " conv2d_13 (Conv2D)          (None, 1000, 3, 1)        37        \n",
      "                                                                 \n",
      "=================================================================\n",
      "Total params: 276\n",
      "Trainable params: 276\n",
      "Non-trainable params: 0\n",
      "_________________________________________________________________\n"
     ]
    }
   ],
   "source": [
    "inp = Input(shape=(step_size,3,1))  \n",
    "e = Conv2D(4, (3, 3), activation='tanh', padding='same')(inp)\n",
    "e = MaxPooling2D((2, 3), padding='same')(e)\n",
    "e = Conv2D(2, (3, 3), activation='tanh', padding='same')(e)\n",
    "e = MaxPooling2D((2, 1), padding='same')(e)\n",
    "e = Conv2D(1, (3, 3), activation='tanh', padding='same')(e)\n",
    "e = MaxPooling2D((2, 1), padding='same')(e)\n",
    "\n",
    "shape_before_flattening = K.int_shape(e)\n",
    "encoded = Flatten()(e)\n",
    "d = Reshape(shape_before_flattening[1:])(encoded)\n",
    "\n",
    "d = Conv2D(1, (3, 3), activation='tanh', padding='same')(d)\n",
    "d = UpSampling2D((2, 1))(d)\n",
    "d = Conv2D(2, (3, 3), activation='tanh', padding='same')(d)\n",
    "d = UpSampling2D((2, 1))(d)\n",
    "d = Conv2D(4, (3, 3), activation='tanh', padding='same')(d)\n",
    "d = UpSampling2D((2, 3))(d)\n",
    "decoded = Conv2D(1, (3, 3), padding='same')(d)\n",
    "\n",
    "autoencoder = Model(inputs=inp, outputs=decoded, name='autoencoder')\n",
    "encoder = Model(inputs=inp, outputs=encoded, name='encoder')\n",
    "\n",
    "# # from keras.utils import plot_model\n",
    "# # from keras.utils.vis_utils import plot_model\n",
    "# # plot_model(autoencoder, to_file='autoencoder.png', show_shapes=True)\n",
    "# # from IPython.display import Image\n",
    "# # Image(filename='autoencoder.png')\n",
    "\n",
    "autoencoder.compile(optimizer='adam', loss='mse')\n",
    "csv_logger = CSVLogger('pretrain_log.csv')\n",
    "\n",
    "autoencoder.summary()"
   ]
  },
  {
   "cell_type": "code",
   "execution_count": 8,
   "metadata": {},
   "outputs": [
    {
     "name": "stdout",
     "output_type": "stream",
     "text": [
      "Epoch 1/30\n",
      "68/68 [==============================] - 4s 40ms/step - loss: 0.0024\n",
      "Epoch 2/30\n",
      "68/68 [==============================] - 3s 38ms/step - loss: 0.0024\n",
      "Epoch 3/30\n",
      "68/68 [==============================] - 3s 39ms/step - loss: 0.0023\n",
      "Epoch 4/30\n",
      "68/68 [==============================] - 3s 39ms/step - loss: 0.0023\n",
      "Epoch 5/30\n",
      "68/68 [==============================] - 3s 39ms/step - loss: 0.0023\n",
      "Epoch 6/30\n",
      "68/68 [==============================] - 3s 38ms/step - loss: 0.0023\n",
      "Epoch 7/30\n",
      "68/68 [==============================] - 3s 39ms/step - loss: 0.0023\n",
      "Epoch 8/30\n",
      "68/68 [==============================] - 3s 40ms/step - loss: 0.0023\n",
      "Epoch 9/30\n",
      "68/68 [==============================] - 3s 39ms/step - loss: 0.0023\n",
      "Epoch 10/30\n",
      "68/68 [==============================] - 3s 39ms/step - loss: 0.0023\n",
      "Epoch 11/30\n",
      "68/68 [==============================] - 3s 40ms/step - loss: 0.0023\n",
      "Epoch 12/30\n",
      "68/68 [==============================] - 3s 39ms/step - loss: 0.0022\n",
      "Epoch 13/30\n",
      "68/68 [==============================] - 3s 39ms/step - loss: 0.0022\n",
      "Epoch 14/30\n",
      "68/68 [==============================] - 3s 39ms/step - loss: 0.0022\n",
      "Epoch 15/30\n",
      "68/68 [==============================] - 3s 39ms/step - loss: 0.0022\n",
      "Epoch 16/30\n",
      "68/68 [==============================] - 3s 41ms/step - loss: 0.0022\n",
      "Epoch 17/30\n",
      "68/68 [==============================] - 3s 41ms/step - loss: 0.0022\n",
      "Epoch 18/30\n",
      "68/68 [==============================] - 3s 40ms/step - loss: 0.0022\n",
      "Epoch 19/30\n",
      "68/68 [==============================] - 3s 41ms/step - loss: 0.0022\n",
      "Epoch 20/30\n",
      "68/68 [==============================] - 3s 40ms/step - loss: 0.0022\n",
      "Epoch 21/30\n",
      "68/68 [==============================] - 3s 41ms/step - loss: 0.0022\n",
      "Epoch 22/30\n",
      "68/68 [==============================] - 3s 40ms/step - loss: 0.0022\n",
      "Epoch 23/30\n",
      "68/68 [==============================] - 3s 40ms/step - loss: 0.0022\n",
      "Epoch 24/30\n",
      "68/68 [==============================] - 3s 41ms/step - loss: 0.0022\n",
      "Epoch 25/30\n",
      "68/68 [==============================] - 3s 41ms/step - loss: 0.0022\n",
      "Epoch 26/30\n",
      "68/68 [==============================] - 3s 41ms/step - loss: 0.0022\n",
      "Epoch 27/30\n",
      "68/68 [==============================] - 3s 40ms/step - loss: 0.0022\n",
      "Epoch 28/30\n",
      "68/68 [==============================] - 3s 41ms/step - loss: 0.0022\n",
      "Epoch 29/30\n",
      "68/68 [==============================] - 3s 41ms/step - loss: 0.0022\n",
      "Epoch 30/30\n",
      "68/68 [==============================] - 3s 40ms/step - loss: 0.0022\n"
     ]
    },
    {
     "data": {
      "text/plain": [
       "<keras.callbacks.History at 0x2ba622e2ab20>"
      ]
     },
     "execution_count": 8,
     "metadata": {},
     "output_type": "execute_result"
    }
   ],
   "source": [
    "## only need to rerun if changing data ##\n",
    "## currently stored in saved_models/clustering_autoencoder_pickle ###\n",
    "\n",
    "autoencoder.fit(batched_stream_arr_by_time, batched_stream_arr_by_time, batch_size=128, epochs=30, callbacks=[csv_logger])\n",
    "# Store_Models('saved_models/clustering_v2_autoencoder_pickle', autoencoder)"
   ]
  },
  {
   "cell_type": "code",
   "execution_count": 13,
   "metadata": {},
   "outputs": [
    {
     "name": "stderr",
     "output_type": "stream",
     "text": [
      "2022-03-17 12:57:15.675746: W tensorflow/python/util/util.cc:368] Sets are not currently considered sequences, but this may change in the future, so consider avoiding using them.\n"
     ]
    },
    {
     "name": "stdout",
     "output_type": "stream",
     "text": [
      "INFO:tensorflow:Assets written to: ram://8fb1c709-b3ba-4777-b507-daaac6231335/assets\n"
     ]
    },
    {
     "data": {
      "text/plain": [
       "'Successfully stored pickles!'"
      ]
     },
     "execution_count": 13,
     "metadata": {},
     "output_type": "execute_result"
    }
   ],
   "source": [
    "Store_Models('saved_models/clustering_autoencoder_step1000_pickle', autoencoder)"
   ]
  },
  {
   "cell_type": "code",
   "execution_count": null,
   "metadata": {},
   "outputs": [],
   "source": [
    "# autoencoder = Load_Models_Pickle('saved_models/clustering_v2_autoencoder_pickle')"
   ]
  },
  {
   "cell_type": "code",
   "execution_count": 9,
   "metadata": {},
   "outputs": [
    {
     "name": "stdout",
     "output_type": "stream",
     "text": [
      "...Finetuning...\n"
     ]
    }
   ],
   "source": [
    "class ClusteringLayer(Layer):\n",
    "    def __init__(self, n_clusters, weights=None, alpha=1.0, **kwargs):\n",
    "        if 'input_shape' not in kwargs and 'input_dim' in kwargs:\n",
    "            kwargs['input_shape'] = (kwargs.pop('input_dim'),)\n",
    "        super(ClusteringLayer, self).__init__(**kwargs)\n",
    "        self.n_clusters = n_clusters\n",
    "        self.alpha = alpha\n",
    "        self.initial_weights = weights\n",
    "        self.input_spec = InputSpec(ndim=2)\n",
    "\n",
    "    def build(self, input_shape):\n",
    "        assert len(input_shape) == 2\n",
    "        input_dim = input_shape[1]\n",
    "        self.input_spec = InputSpec(dtype=K.floatx(), shape=(None, input_dim))\n",
    "        self.clusters = self.add_weight(shape=(self.n_clusters, input_dim), initializer='glorot_uniform', name='clusters')\n",
    "        if self.initial_weights is not None:\n",
    "            self.set_weights(self.initial_weights)\n",
    "            del self.initial_weights\n",
    "        self.built = True\n",
    "\n",
    "    def call(self, inputs, **kwargs):\n",
    "        q = 1.0 / (1.0 + (K.sum(K.square(K.expand_dims(inputs, axis=1) - self.clusters), axis=2) / self.alpha))\n",
    "        q **= (self.alpha + 1.0) / 2.0\n",
    "        q = K.transpose(K.transpose(q) / K.sum(q, axis=1)) \n",
    "        return q\n",
    "\n",
    "    def compute_output_shape(self, input_shape):\n",
    "        assert input_shape and len(input_shape) == 2\n",
    "        return input_shape[0], self.n_clusters\n",
    "\n",
    "    def get_config(self):\n",
    "        config = {'n_clusters': self.n_clusters}\n",
    "        base_config = super(ClusteringLayer, self).get_config()\n",
    "        return dict(list(base_config.items()) + list(config.items()))\n",
    "    \n",
    "print('...Finetuning...')\n",
    "n_clusters = 3\n",
    "clustering_layer = ClusteringLayer(n_clusters, name='clustering')(encoder.output)\n",
    "model = Model(inputs=[encoder.input], outputs=[clustering_layer, encoder.output])\n",
    "model.compile(loss=['kld', 'mse'], loss_weights=[0.1, 1], optimizer='adam')\n",
    "\n",
    "# from keras.utils import plot_model\n",
    "# plot_model(model, to_file='model.png', show_shapes=True)\n",
    "# from IPython.display import Image\n",
    "# Image(filename='model.png')"
   ]
  },
  {
   "cell_type": "code",
   "execution_count": 10,
   "metadata": {},
   "outputs": [],
   "source": [
    "kmeans = KMeans(n_clusters=n_clusters, n_init=20)\n",
    "y_pred = kmeans.fit_predict(encoder.predict(batched_stream_arr_by_time))\n",
    "y_pred_last = np.copy(y_pred)\n",
    "model.get_layer(name='clustering').set_weights([kmeans.cluster_centers_])"
   ]
  },
  {
   "cell_type": "code",
   "execution_count": null,
   "metadata": {},
   "outputs": [],
   "source": [
    "# Store_Models('saved_models/y_pred_clustering_v2', y_pred)\n",
    "# y_pred = Load_Models_Pickle('saved_models/y_pred_clustering_v2')"
   ]
  },
  {
   "cell_type": "code",
   "execution_count": 19,
   "metadata": {},
   "outputs": [
    {
     "name": "stdout",
     "output_type": "stream",
     "text": [
      "ERROR! Session/line number was not unique in database. History logging moved to new session 159\n"
     ]
    },
    {
     "data": {
      "text/html": [
       "<div>\n",
       "<style scoped>\n",
       "    .dataframe tbody tr th:only-of-type {\n",
       "        vertical-align: middle;\n",
       "    }\n",
       "\n",
       "    .dataframe tbody tr th {\n",
       "        vertical-align: top;\n",
       "    }\n",
       "\n",
       "    .dataframe thead th {\n",
       "        text-align: right;\n",
       "    }\n",
       "</style>\n",
       "<table border=\"1\" class=\"dataframe\">\n",
       "  <thead>\n",
       "    <tr style=\"text-align: right;\">\n",
       "      <th></th>\n",
       "      <th>E</th>\n",
       "      <th>N</th>\n",
       "      <th>Z</th>\n",
       "      <th>y_pred</th>\n",
       "    </tr>\n",
       "  </thead>\n",
       "  <tbody>\n",
       "    <tr>\n",
       "      <th>0</th>\n",
       "      <td>6.014808e-15</td>\n",
       "      <td>3.784296e-15</td>\n",
       "      <td>7.721483e-15</td>\n",
       "      <td>2</td>\n",
       "    </tr>\n",
       "    <tr>\n",
       "      <th>1</th>\n",
       "      <td>1.922990e-12</td>\n",
       "      <td>-1.016837e-12</td>\n",
       "      <td>4.349667e-13</td>\n",
       "      <td>2</td>\n",
       "    </tr>\n",
       "    <tr>\n",
       "      <th>2</th>\n",
       "      <td>1.733797e-11</td>\n",
       "      <td>-6.197261e-11</td>\n",
       "      <td>-3.870984e-11</td>\n",
       "      <td>2</td>\n",
       "    </tr>\n",
       "    <tr>\n",
       "      <th>3</th>\n",
       "      <td>-1.867746e-10</td>\n",
       "      <td>-7.318518e-10</td>\n",
       "      <td>-6.222342e-10</td>\n",
       "      <td>2</td>\n",
       "    </tr>\n",
       "    <tr>\n",
       "      <th>4</th>\n",
       "      <td>-2.415755e-09</td>\n",
       "      <td>-3.428619e-09</td>\n",
       "      <td>-3.138452e-09</td>\n",
       "      <td>2</td>\n",
       "    </tr>\n",
       "    <tr>\n",
       "      <th>...</th>\n",
       "      <td>...</td>\n",
       "      <td>...</td>\n",
       "      <td>...</td>\n",
       "      <td>...</td>\n",
       "    </tr>\n",
       "    <tr>\n",
       "      <th>8639995</th>\n",
       "      <td>-2.944565e-08</td>\n",
       "      <td>9.726900e-08</td>\n",
       "      <td>1.665550e-08</td>\n",
       "      <td>0</td>\n",
       "    </tr>\n",
       "    <tr>\n",
       "      <th>8639996</th>\n",
       "      <td>-1.699991e-07</td>\n",
       "      <td>-2.768206e-09</td>\n",
       "      <td>1.772867e-07</td>\n",
       "      <td>0</td>\n",
       "    </tr>\n",
       "    <tr>\n",
       "      <th>8639997</th>\n",
       "      <td>-1.358040e-08</td>\n",
       "      <td>-4.308229e-08</td>\n",
       "      <td>5.260278e-08</td>\n",
       "      <td>0</td>\n",
       "    </tr>\n",
       "    <tr>\n",
       "      <th>8639998</th>\n",
       "      <td>5.766245e-08</td>\n",
       "      <td>-2.747039e-08</td>\n",
       "      <td>-4.181835e-08</td>\n",
       "      <td>0</td>\n",
       "    </tr>\n",
       "    <tr>\n",
       "      <th>8639999</th>\n",
       "      <td>2.860531e-09</td>\n",
       "      <td>-1.510387e-08</td>\n",
       "      <td>1.275812e-08</td>\n",
       "      <td>0</td>\n",
       "    </tr>\n",
       "  </tbody>\n",
       "</table>\n",
       "<p>8640000 rows × 4 columns</p>\n",
       "</div>"
      ],
      "text/plain": [
       "                    E             N             Z  y_pred\n",
       "0        6.014808e-15  3.784296e-15  7.721483e-15       2\n",
       "1        1.922990e-12 -1.016837e-12  4.349667e-13       2\n",
       "2        1.733797e-11 -6.197261e-11 -3.870984e-11       2\n",
       "3       -1.867746e-10 -7.318518e-10 -6.222342e-10       2\n",
       "4       -2.415755e-09 -3.428619e-09 -3.138452e-09       2\n",
       "...               ...           ...           ...     ...\n",
       "8639995 -2.944565e-08  9.726900e-08  1.665550e-08       0\n",
       "8639996 -1.699991e-07 -2.768206e-09  1.772867e-07       0\n",
       "8639997 -1.358040e-08 -4.308229e-08  5.260278e-08       0\n",
       "8639998  5.766245e-08 -2.747039e-08 -4.181835e-08       0\n",
       "8639999  2.860531e-09 -1.510387e-08  1.275812e-08       0\n",
       "\n",
       "[8640000 rows x 4 columns]"
      ]
     },
     "execution_count": 19,
     "metadata": {},
     "output_type": "execute_result"
    }
   ],
   "source": [
    "df = pd.DataFrame({'E': stream[0].data, 'N': stream[1].data, 'Z': stream[2].data})\n",
    "step_size = 1000\n",
    "df['y_pred'] = np.repeat(y_pred, step_size)\n",
    "df"
   ]
  },
  {
   "cell_type": "code",
   "execution_count": 20,
   "metadata": {},
   "outputs": [
    {
     "data": {
      "text/plain": [
       "array([2, 1, 0], dtype=int32)"
      ]
     },
     "execution_count": 20,
     "metadata": {},
     "output_type": "execute_result"
    }
   ],
   "source": [
    "df['y_pred'].unique()"
   ]
  },
  {
   "cell_type": "code",
   "execution_count": 23,
   "metadata": {},
   "outputs": [
    {
     "data": {
      "text/plain": [
       "[0, 1, 2]"
      ]
     },
     "execution_count": 23,
     "metadata": {},
     "output_type": "execute_result"
    }
   ],
   "source": [
    "list(set(y_pred))"
   ]
  },
  {
   "cell_type": "code",
   "execution_count": 28,
   "metadata": {
    "scrolled": true
   },
   "outputs": [
    {
     "name": "stdout",
     "output_type": "stream",
     "text": [
      "ERROR! Session/line number was not unique in database. History logging moved to new session 162\n"
     ]
    }
   ],
   "source": [
    "def plot_waves(stream, predictions):\n",
    "    fig = plt.figure(figsize=(16, 10))\n",
    "    clusters = list(set(predictions))\n",
    "    axs = fig.subplots(len(clusters)+1, 1, sharex=True, sharey=True, gridspec_kw={'hspace': 0})\n",
    "                \n",
    "    df = pd.DataFrame({'E': stream[0].data, 'N': stream[1].data, 'Z': stream[2].data})\n",
    "    step_size = 1000\n",
    "    df['y_pred'] = np.repeat(y_pred, step_size)\n",
    "    \n",
    "    for i in range(3):\n",
    "        axs[0].plot(df.index, df.iloc[:, i], label = df.columns[i])\n",
    "    \n",
    "    for i in clusters:\n",
    "        cluster = df[df['y_pred'] == i]\n",
    "        for j in range(3):\n",
    "            axs[i + 1].plot(cluster.index, cluster.iloc[:, j], label=df.columns[j])\n",
    "        \n",
    "        axs[i+1].legend()\n",
    "        axs[i+1].title.set_text(\"Cluster \" + str(i))\n",
    "        \n",
    "    axs[0].legend()\n",
    "    axs[0].title.set_text(\"Stream\")\n",
    "        \n",
    "#     zero = df[df['y_pred'] == 0]\n",
    "#     one = df[df['y_pred'] == 1]\n",
    "\n",
    "#     for i in range(3):\n",
    "#         axs[0].plot(df.index, df.iloc[:, i], label=df.columns[i])\n",
    "#         axs[1].plot(zero.index, zero.iloc[:, i], label=df.columns[i])\n",
    "#         axs[2].plot(one.index, one.iloc[:, i], label=df.columns[i])\n",
    "    \n",
    "#     axs[0].legend()\n",
    "#     axs[1].legend()\n",
    "#     axs[2].legend()\n",
    "    \n",
    "#     axs[0].title.set_text(\"Stream\")\n",
    "#     axs[1].title.set_text('Cluster 0')\n",
    "#     axs[2].title.set_text('Cluster 1')\n",
    "    plt.show()\n",
    "    return 0"
   ]
  },
  {
   "cell_type": "code",
   "execution_count": 25,
   "metadata": {},
   "outputs": [
    {
     "data": {
      "text/plain": [
       "array([2, 2, 1, ..., 1, 1, 0], dtype=int32)"
      ]
     },
     "execution_count": 25,
     "metadata": {},
     "output_type": "execute_result"
    }
   ],
   "source": [
    "y_pred"
   ]
  },
  {
   "cell_type": "code",
   "execution_count": 26,
   "metadata": {},
   "outputs": [
    {
     "data": {
      "text/plain": [
       "         network: HF\n",
       "         station: 1001\n",
       "        location: 00\n",
       "         channel: EPE\n",
       "       starttime: 2020-12-07T00:00:04.366000Z\n",
       "         endtime: 2020-12-08T00:00:04.362592Z\n",
       "   sampling_rate: 99.99999237060547\n",
       "           delta: 0.010000000762939512\n",
       "            npts: 8640000\n",
       "           calib: 1.0\n",
       "         _format: MSEED\n",
       "           mseed: AttribDict({'dataquality': 'D', 'number_of_records': 17212, 'encoding': 'FLOAT64', 'byteorder': '>', 'record_length': 4096, 'filesize': 70500352})"
      ]
     },
     "execution_count": 26,
     "metadata": {},
     "output_type": "execute_result"
    }
   ],
   "source": [
    "stream[0].stats"
   ]
  },
  {
   "cell_type": "markdown",
   "metadata": {},
   "source": [
    "## Make sure pipeline is debugged\n",
    "\n",
    "#### increase window length from 16; 10 second long window maybe better? try to increase clusters next week too\n",
    "#### \n",
    "\n",
    "#### 10 second = 1000 units, play aorund with window length and num clusters\n",
    "#### stream[0].stats --> trace metadata\n",
    "\n",
    "\n",
    "#### look into if we can test this clustering algorithm / structure (sin wave + noise), multiple sin waves summed"
   ]
  },
  {
   "cell_type": "markdown",
   "metadata": {},
   "source": [
    "#### try wavelet transform / short-time fourier transform"
   ]
  },
  {
   "cell_type": "markdown",
   "metadata": {},
   "source": [
    "#### https://github.com/stanford-futuredata/FAST"
   ]
  },
  {
   "cell_type": "markdown",
   "metadata": {},
   "source": [
    "https://www.science.org/doi/10.1126/sciadv.1501057"
   ]
  },
  {
   "cell_type": "code",
   "execution_count": 21,
   "metadata": {},
   "outputs": [
    {
     "data": {
      "text/plain": [
       "273247"
      ]
     },
     "execution_count": 21,
     "metadata": {},
     "output_type": "execute_result"
    }
   ],
   "source": [
    "sum(y_pred)"
   ]
  },
  {
   "cell_type": "code",
   "execution_count": 29,
   "metadata": {},
   "outputs": [
    {
     "data": {
      "image/png": "[encoded data removed]",
      "text/plain": [
       "<Figure size 1152x720 with 4 Axes>"
      ]
     },
     "metadata": {
      "needs_background": "light"
     },
     "output_type": "display_data"
    },
    {
     "data": {
      "text/plain": [
       "0"
      ]
     },
     "execution_count": 29,
     "metadata": {},
     "output_type": "execute_result"
    }
   ],
   "source": [
    "plot_waves(stream, y_pred)"
   ]
  },
  {
   "cell_type": "code",
   "execution_count": null,
   "metadata": {},
   "outputs": [],
   "source": []
  }
 ],
 "metadata": {
  "kernelspec": {
   "display_name": "seisbench",
   "language": "python",
   "name": "sb"
  },
  "language_info": {
   "codemirror_mode": {
    "name": "ipython",
    "version": 3
   },
   "file_extension": ".py",
   "mimetype": "text/x-python",
   "name": "python",
   "nbconvert_exporter": "python",
   "pygments_lexer": "ipython3",
   "version": "3.9.7"
  }
 },
 "nbformat": 4,
 "nbformat_minor": 2
}
