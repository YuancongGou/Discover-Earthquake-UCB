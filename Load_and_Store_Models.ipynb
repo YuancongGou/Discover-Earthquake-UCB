{
 "cells": [
  {
   "cell_type": "code",
   "execution_count": 1,
   "metadata": {},
   "outputs": [],
   "source": [
    "import seisbench.models as sbm\n",
    "import pickle"
   ]
  },
  {
   "cell_type": "code",
   "execution_count": 2,
   "metadata": {},
   "outputs": [],
   "source": [
    "# Downloads all of the pretrained seisbench models for PhaseNet, EQTransformer and GPD. Returns nested\n",
    "# dictionaries. The keys for the first dictionary are the model type. The keys for the nested dictionary\n",
    "# are the data that they were pretrained on, and the items are the models themself. \n",
    "\n",
    "def load_pretrained_models():\n",
    "    pn_pretrained = ['stead', 'geofon', 'neic']\n",
    "    eqt_pretrained = ['original', 'ethz', 'instance', 'scedc', 'stead', 'geofon']\n",
    "    gpd_pretrained = ['original', 'ethz', 'scedc', 'stead']\n",
    "\n",
    "    models = {'pn_model' : {}, 'eqt_model' : {}, 'gpd_model' : {}}\n",
    "    \n",
    "    for pn in pn_pretrained:\n",
    "        models['pn_model'][pn] = sbm.PhaseNet.from_pretrained(pn)\n",
    "    \n",
    "    for eqt in eqt_pretrained:\n",
    "        models['eqt_model'][eqt] = sbm.EQTransformer.from_pretrained(eqt) \n",
    "    \n",
    "    for gpd in gpd_pretrained:\n",
    "        models['gpd_model'][gpd] = sbm.GPD.from_pretrained(gpd)\n",
    "    \n",
    "    models['denoiser']= sbm.DeepDenoiser.from_pretrained(\"original\")\n",
    "    \n",
    "    return models"
   ]
  },
  {
   "cell_type": "code",
   "execution_count": 3,
   "metadata": {},
   "outputs": [],
   "source": [
    "# Calls Load_Pretrained_Models() and stores the return as the variable 'models'. Then pickels the models\n",
    "# into the file 'models_pickle' (which is on the same path as this script).\n",
    "\n",
    "def store_models(filename, models):\n",
    "    db_file = open(filename, 'wb')\n",
    "    \n",
    "    pickle.dump(models, db_file)                     \n",
    "    db_file.close()\n",
    "    \n",
    "    return 'Successfully stored pickles!'"
   ]
  },
  {
   "cell_type": "code",
   "execution_count": 4,
   "metadata": {},
   "outputs": [],
   "source": [
    "# Loads the pickled file and returns the origianl nested models dictionaries. When working on another file\n",
    "# load the definition of this file.\n",
    "\n",
    "def load_models_pickle(filename):\n",
    "    db_file = open(filename, 'rb')\n",
    "    models = pickle.load(db_file)\n",
    "    \n",
    "    return models"
   ]
  },
  {
   "cell_type": "code",
   "execution_count": 5,
   "metadata": {},
   "outputs": [],
   "source": [
    "if __name__ == '__main__':\n",
    "    store_models('models_pickle', load_pretrained_models())\n",
    "    \n",
    "    # This line can be commented out. It just shows an example of how to load the pickled file. \n",
    "    # models = load_models_pickle('models_pickle')\n",
    "    # models.keys()"
   ]
  },
  {
   "cell_type": "code",
   "execution_count": null,
   "metadata": {},
   "outputs": [],
   "source": []
  }
 ],
 "metadata": {
  "kernelspec": {
   "display_name": "seisbench",
   "language": "python",
   "name": "sb"
  },
  "language_info": {
   "codemirror_mode": {
    "name": "ipython",
    "version": 3
   },
   "file_extension": ".py",
   "mimetype": "text/x-python",
   "name": "python",
   "nbconvert_exporter": "python",
   "pygments_lexer": "ipython3",
   "version": "3.9.7"
  }
 },
 "nbformat": 4,
 "nbformat_minor": 2
}
